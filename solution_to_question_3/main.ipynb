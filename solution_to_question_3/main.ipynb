{
 "cells": [
  {
   "cell_type": "code",
   "execution_count": 4,
   "id": "b6c709bd-8dbe-4312-be6a-357d2c060e8a",
   "metadata": {},
   "outputs": [],
   "source": [
    "texts = \"\"\"As a term, data analytics predominantly refers to an assortment of applications, from basic business intelligence (BI), reporting and online analytical processing (OLAP) to various forms of advanced analytics. In that sense, it's similar in nature to business analytics, another umbrella term for approaches to analyzing data -- with the difference that the latter is oriented to business uses, while data analytics has a broader focus. The expansive view of the term isn't universal, though: In some cases, people use data analytics specifically to mean advanced analytics, treating BI as a separate category. Data analytics initiatives can help businesses increase revenues, improve operational efficiency, optimize marketing campaigns and customer service efforts, respond more quickly to emerging market trends and gain a competitive edge over rivals -- all with the ultimate goal of boosting business performance. Depending on the particular application, the data that's analyzed can consist of either historical records or new information that has been processed for real-time analytics uses. In addition, it can come from a mix of internal systems and external data sources. At a high level, data analytics methodologies include exploratory data analysis (EDA), which aims to find patterns and relationships in data, and confirmatory data analysis (CDA), which applies statistical techniques to determine whether hypotheses about a data set are true or false. EDA is often compared to detective work, while CDA is akin to the work of a judge or jury during a court trial -- a distinction first drawn by statistician John W. Tukey in his 1977 book Exploratory Data Analysis. Data analytics can also be separated into quantitative data analysis and qualitative data analysis. The former involves analysis of numerical data with quantifiable variables that can be compared or measured statistically. The qualitative approach is more interpretive -- it focuses on understanding the content of non-numerical data like text, images, audio and video, including common phrases, themes and points of view.\"\"\"\n",
    "\n"
   ]
  },
  {
   "cell_type": "code",
   "execution_count": 5,
   "id": "c296fecc-f1d3-4ddb-b9a2-5ddccf44fa44",
   "metadata": {},
   "outputs": [],
   "source": [
    "def probability_of_word_occurrence_data(text):\n",
    "    import re\n",
    "    lines = re.split(r'\\. |\\.\\n', text)\n",
    "    \n",
    "    probabilities = []\n",
    "    \n",
    "    for line in lines:\n",
    "        words = line.split()\n",
    "        word_count = len(words)\n",
    "        data_count = sum(1 for word in words if word.lower() == \"data\")\n",
    "        probability = data_count / word_count if word_count > 0 else 0\n",
    "        probabilities.append(probability)\n",
    "    \n",
    "    return probabilities\n",
    "\n",
    "\n"
   ]
  },
  {
   "cell_type": "code",
   "execution_count": 7,
   "id": "42af47f5-152d-4249-b9d3-71c3258b02f9",
   "metadata": {},
   "outputs": [
    {
     "name": "stdout",
     "output_type": "stream",
     "text": [
      "jawaban untuk pertayaan 1 What is the probability of the word “data” occurring in each line ? \n",
      "\n",
      "Line 1 probability: 0.0345\n",
      "Line 2 probability: 0.0541\n",
      "Line 3 probability: 0.0370\n",
      "Line 4 probability: 0.0238\n",
      "Line 5 probability: 0.0385\n",
      "Line 6 probability: 0.0667\n",
      "Line 7 probability: 0.0952\n",
      "Line 8 probability: 0.0000\n",
      "Line 9 probability: 0.1250\n",
      "Line 10 probability: 0.2143\n",
      "Line 11 probability: 0.0588\n",
      "Line 12 probability: 0.0333\n"
     ]
    }
   ],
   "source": [
    "print(\"jawaban untuk pertayaan 1 What is the probability of the word “data” occurring in each line ? \\n\")\n",
    "probabilities = probability_of_word_occurrence_data(texts)\n",
    "for i, prob in enumerate(probabilities, start=1):\n",
    "    print(f\"Line {i} probability: {prob:.4f}\")"
   ]
  },
  {
   "cell_type": "code",
   "execution_count": 8,
   "id": "665cc4b8-e614-43b7-9420-f9a1b33a381e",
   "metadata": {},
   "outputs": [],
   "source": [
    "def distribution_of_distinct_word_counts(text):\n",
    "    import re\n",
    "    from collections import Counter\n",
    "    \n",
    "    lines = re.split(r'\\. |\\.\\n', text)\n",
    "    \n",
    "    word_counts = []\n",
    "    \n",
    "    for line in lines:\n",
    "        words = re.findall(r'\\b\\w+\\b', line.lower())\n",
    "        \n",
    "        distinct_words = set(words)\n",
    "        word_counts.append(len(distinct_words))\n",
    "    \n",
    "    distribution = Counter(word_counts)\n",
    "    \n",
    "    return distribution\n",
    "\n"
   ]
  },
  {
   "cell_type": "code",
   "execution_count": 9,
   "id": "aa63ee41-9470-48ed-93c8-03f4d81ebeab",
   "metadata": {},
   "outputs": [
    {
     "name": "stdout",
     "output_type": "stream",
     "text": [
      "jawaban untuk pertayaan 2 What is the distribution of distinct word counts across all the lines ? \n",
      "\n",
      "Distinct word count: 26, Frequency: 4\n",
      "Distinct word count: 29, Frequency: 1\n",
      "Distinct word count: 40, Frequency: 1\n",
      "Distinct word count: 15, Frequency: 1\n",
      "Distinct word count: 33, Frequency: 1\n",
      "Distinct word count: 8, Frequency: 1\n",
      "Distinct word count: 11, Frequency: 1\n",
      "Distinct word count: 17, Frequency: 1\n",
      "Distinct word count: 27, Frequency: 1\n"
     ]
    }
   ],
   "source": [
    "print(\"jawaban untuk pertayaan 2 What is the distribution of distinct word counts across all the lines ? \\n\")\n",
    "distribution = distribution_of_distinct_word_counts(texts)\n",
    "for word_count, freq in distribution.items():\n",
    "    print(f\"Distinct word count: {word_count}, Frequency: {freq}\")\n"
   ]
  },
  {
   "cell_type": "code",
   "execution_count": 10,
   "id": "7f9db1b2-671a-40b2-affe-048aa7350aee",
   "metadata": {},
   "outputs": [],
   "source": [
    "def probability_of_analytics_after_data(text):\n",
    "    import re\n",
    "    \n",
    "    pattern = re.compile(r'\\bdata analytics\\b', re.IGNORECASE)\n",
    "    data_analytics_count = len(pattern.findall(text))\n",
    "    \n",
    "    data_count = len(re.findall(r'\\bdata\\b', text, re.IGNORECASE))\n",
    "    \n",
    "    probability = data_analytics_count / data_count if data_count > 0 else 0\n",
    "    \n",
    "    return probability, data_analytics_count, data_count\n",
    "\n",
    "\n",
    "\n",
    "\n",
    "\n",
    "   \n",
    "\n",
    "   \n",
    "    \n",
    "   "
   ]
  },
  {
   "cell_type": "code",
   "execution_count": 11,
   "id": "cd1cbe31-e8a1-4c9d-b66a-fc1274ddb7de",
   "metadata": {},
   "outputs": [
    {
     "name": "stdout",
     "output_type": "stream",
     "text": [
      "jawaban untuk pertayaan 3 What is the probability of the word “analytics” occurring after the word “data” ? \n",
      "\n",
      "probability : 0.3333333333333333 data_analytic_count : 6 data_count : 18\n"
     ]
    }
   ],
   "source": [
    "print(\"jawaban untuk pertayaan 3 What is the probability of the word “analytics” occurring after the word “data” ? \\n\")\n",
    "probability, data_analytics_count, data_count = probability_of_analytics_after_data(texts)\n",
    "print(\"probability :\", probability, \"data_analytic_count :\", data_analytics_count, \"data_count :\", data_count)\n"
   ]
  },
  {
   "cell_type": "code",
   "execution_count": null,
   "id": "8d48b75f-9403-44db-b4f3-8f7b99b875f7",
   "metadata": {},
   "outputs": [],
   "source": []
  },
  {
   "cell_type": "code",
   "execution_count": null,
   "id": "33bf4bd3-b03e-482a-83d2-a95bd917a001",
   "metadata": {},
   "outputs": [],
   "source": []
  }
 ],
 "metadata": {
  "kernelspec": {
   "display_name": "Python 3 (ipykernel)",
   "language": "python",
   "name": "python3"
  },
  "language_info": {
   "codemirror_mode": {
    "name": "ipython",
    "version": 3
   },
   "file_extension": ".py",
   "mimetype": "text/x-python",
   "name": "python",
   "nbconvert_exporter": "python",
   "pygments_lexer": "ipython3",
   "version": "3.8.10"
  }
 },
 "nbformat": 4,
 "nbformat_minor": 5
}
